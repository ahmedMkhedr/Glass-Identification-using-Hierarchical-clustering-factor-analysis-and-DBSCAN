{
 "cells": [
  {
   "cell_type": "code",
   "execution_count": 84,
   "metadata": {},
   "outputs": [],
   "source": [
    "import pandas as pd \n",
    "import numpy as np \n",
    "import matplotlib.pyplot as plt\n",
    "import sklearn \n",
    "from pylab import rcParams\n",
    "from sklearn import preprocessing \n",
    "from sklearn.preprocessing import scale\n",
    "import sklearn.metrics as sm\n",
    "from sklearn.metrics import confusion_matrix\n",
    "from sklearn.metrics import classification_report\n",
    "from sklearn.cluster import AgglomerativeClustering\n",
    "import scipy \n",
    "from scipy.cluster.hierarchy import dendrogram, linkage\n",
    "from scipy.cluster.hierarchy import fcluster\n",
    "from scipy.cluster.hierarchy import cophenet\n",
    "from scipy.spatial.distance import pdist\n",
    "from mpl_toolkits.mplot3d import Axes3D\n",
    "from sklearn.model_selection import train_test_split\n",
    "from sklearn.model_selection import cross_val_predict \n",
    "from sklearn.metrics import precision_score, recall_score\n",
    "import seaborn as sb\n",
    "from sklearn.preprocessing import StandardScaler, normalize\n",
    "from sklearn.cluster import DBSCAN\n",
    "from collections import Counter\n",
    "from sklearn.decomposition import FactorAnalysis"
   ]
  },
  {
   "cell_type": "code",
   "execution_count": 73,
   "metadata": {
    "collapsed": true
   },
   "outputs": [],
   "source": [
    "%matplotlib inline \n",
    "rcParams['figure.figsize']=10,8"
   ]
  },
  {
   "cell_type": "code",
   "execution_count": 85,
   "metadata": {},
   "outputs": [
    {
     "data": {
      "text/html": [
       "<div>\n",
       "<style>\n",
       "    .dataframe thead tr:only-child th {\n",
       "        text-align: right;\n",
       "    }\n",
       "\n",
       "    .dataframe thead th {\n",
       "        text-align: left;\n",
       "    }\n",
       "\n",
       "    .dataframe tbody tr th {\n",
       "        vertical-align: top;\n",
       "    }\n",
       "</style>\n",
       "<table border=\"1\" class=\"dataframe\">\n",
       "  <thead>\n",
       "    <tr style=\"text-align: right;\">\n",
       "      <th></th>\n",
       "      <th>Id</th>\n",
       "      <th>refractive_index</th>\n",
       "      <th>Sodium</th>\n",
       "      <th>Magnesium</th>\n",
       "      <th>Aluminum</th>\n",
       "      <th>Silicon</th>\n",
       "      <th>Potassium</th>\n",
       "      <th>Calcium</th>\n",
       "      <th>Barium</th>\n",
       "      <th>Iron</th>\n",
       "      <th>Type_of_glass</th>\n",
       "    </tr>\n",
       "  </thead>\n",
       "  <tbody>\n",
       "    <tr>\n",
       "      <th>0</th>\n",
       "      <td>1</td>\n",
       "      <td>1.52101</td>\n",
       "      <td>13.64</td>\n",
       "      <td>4.49</td>\n",
       "      <td>1.10</td>\n",
       "      <td>71.78</td>\n",
       "      <td>0.06</td>\n",
       "      <td>8.75</td>\n",
       "      <td>0.0</td>\n",
       "      <td>0.0</td>\n",
       "      <td>1</td>\n",
       "    </tr>\n",
       "    <tr>\n",
       "      <th>1</th>\n",
       "      <td>2</td>\n",
       "      <td>1.51761</td>\n",
       "      <td>13.89</td>\n",
       "      <td>3.60</td>\n",
       "      <td>1.36</td>\n",
       "      <td>72.73</td>\n",
       "      <td>0.48</td>\n",
       "      <td>7.83</td>\n",
       "      <td>0.0</td>\n",
       "      <td>0.0</td>\n",
       "      <td>1</td>\n",
       "    </tr>\n",
       "    <tr>\n",
       "      <th>2</th>\n",
       "      <td>3</td>\n",
       "      <td>1.51618</td>\n",
       "      <td>13.53</td>\n",
       "      <td>3.55</td>\n",
       "      <td>1.54</td>\n",
       "      <td>72.99</td>\n",
       "      <td>0.39</td>\n",
       "      <td>7.78</td>\n",
       "      <td>0.0</td>\n",
       "      <td>0.0</td>\n",
       "      <td>1</td>\n",
       "    </tr>\n",
       "    <tr>\n",
       "      <th>3</th>\n",
       "      <td>4</td>\n",
       "      <td>1.51766</td>\n",
       "      <td>13.21</td>\n",
       "      <td>3.69</td>\n",
       "      <td>1.29</td>\n",
       "      <td>72.61</td>\n",
       "      <td>0.57</td>\n",
       "      <td>8.22</td>\n",
       "      <td>0.0</td>\n",
       "      <td>0.0</td>\n",
       "      <td>1</td>\n",
       "    </tr>\n",
       "    <tr>\n",
       "      <th>4</th>\n",
       "      <td>5</td>\n",
       "      <td>1.51742</td>\n",
       "      <td>13.27</td>\n",
       "      <td>3.62</td>\n",
       "      <td>1.24</td>\n",
       "      <td>73.08</td>\n",
       "      <td>0.55</td>\n",
       "      <td>8.07</td>\n",
       "      <td>0.0</td>\n",
       "      <td>0.0</td>\n",
       "      <td>1</td>\n",
       "    </tr>\n",
       "  </tbody>\n",
       "</table>\n",
       "</div>"
      ],
      "text/plain": [
       "   Id  refractive_index  Sodium  Magnesium  Aluminum  Silicon  Potassium  \\\n",
       "0   1           1.52101   13.64       4.49      1.10    71.78       0.06   \n",
       "1   2           1.51761   13.89       3.60      1.36    72.73       0.48   \n",
       "2   3           1.51618   13.53       3.55      1.54    72.99       0.39   \n",
       "3   4           1.51766   13.21       3.69      1.29    72.61       0.57   \n",
       "4   5           1.51742   13.27       3.62      1.24    73.08       0.55   \n",
       "\n",
       "   Calcium  Barium  Iron  Type_of_glass  \n",
       "0     8.75     0.0   0.0              1  \n",
       "1     7.83     0.0   0.0              1  \n",
       "2     7.78     0.0   0.0              1  \n",
       "3     8.22     0.0   0.0              1  \n",
       "4     8.07     0.0   0.0              1  "
      ]
     },
     "execution_count": 85,
     "metadata": {},
     "output_type": "execute_result"
    }
   ],
   "source": [
    "# Load the data\n",
    "Glass_data = pd.read_csv (r'Ahmed Project\\ML AHMED\\glass_data.csv')\n",
    "Glass_data.columns = ['Id', 'refractive_index', 'Sodium', 'Magnesium', 'Aluminum', 'Silicon', 'Potassium', 'Calcium', 'Barium', 'Iron', 'Type_of_glass']\n",
    "\n",
    "Glass_data.head()"
   ]
  },
  {
   "cell_type": "code",
   "execution_count": 86,
   "metadata": {},
   "outputs": [
    {
     "name": "stdout",
     "output_type": "stream",
     "text": [
      "<class 'pandas.core.frame.DataFrame'>\n",
      "RangeIndex: 214 entries, 0 to 213\n",
      "Data columns (total 11 columns):\n",
      "Id                  214 non-null int64\n",
      "refractive_index    214 non-null float64\n",
      "Sodium              214 non-null float64\n",
      "Magnesium           214 non-null float64\n",
      "Aluminum            214 non-null float64\n",
      "Silicon             214 non-null float64\n",
      "Potassium           214 non-null float64\n",
      "Calcium             214 non-null float64\n",
      "Barium              214 non-null float64\n",
      "Iron                214 non-null float64\n",
      "Type_of_glass       214 non-null int64\n",
      "dtypes: float64(9), int64(2)\n",
      "memory usage: 18.5 KB\n"
     ]
    }
   ],
   "source": [
    "Glass_data.info()"
   ]
  },
  {
   "cell_type": "code",
   "execution_count": 87,
   "metadata": {},
   "outputs": [
    {
     "data": {
      "text/html": [
       "<div>\n",
       "<style>\n",
       "    .dataframe thead tr:only-child th {\n",
       "        text-align: right;\n",
       "    }\n",
       "\n",
       "    .dataframe thead th {\n",
       "        text-align: left;\n",
       "    }\n",
       "\n",
       "    .dataframe tbody tr th {\n",
       "        vertical-align: top;\n",
       "    }\n",
       "</style>\n",
       "<table border=\"1\" class=\"dataframe\">\n",
       "  <thead>\n",
       "    <tr style=\"text-align: right;\">\n",
       "      <th></th>\n",
       "      <th>count</th>\n",
       "      <th>mean</th>\n",
       "      <th>std</th>\n",
       "      <th>min</th>\n",
       "      <th>25%</th>\n",
       "      <th>50%</th>\n",
       "      <th>75%</th>\n",
       "      <th>max</th>\n",
       "    </tr>\n",
       "  </thead>\n",
       "  <tbody>\n",
       "    <tr>\n",
       "      <th>Id</th>\n",
       "      <td>214.0</td>\n",
       "      <td>107.500000</td>\n",
       "      <td>61.920648</td>\n",
       "      <td>1.00000</td>\n",
       "      <td>54.250000</td>\n",
       "      <td>107.50000</td>\n",
       "      <td>160.750000</td>\n",
       "      <td>214.00000</td>\n",
       "    </tr>\n",
       "    <tr>\n",
       "      <th>refractive_index</th>\n",
       "      <td>214.0</td>\n",
       "      <td>1.518365</td>\n",
       "      <td>0.003037</td>\n",
       "      <td>1.51115</td>\n",
       "      <td>1.516523</td>\n",
       "      <td>1.51768</td>\n",
       "      <td>1.519157</td>\n",
       "      <td>1.53393</td>\n",
       "    </tr>\n",
       "    <tr>\n",
       "      <th>Sodium</th>\n",
       "      <td>214.0</td>\n",
       "      <td>13.407850</td>\n",
       "      <td>0.816604</td>\n",
       "      <td>10.73000</td>\n",
       "      <td>12.907500</td>\n",
       "      <td>13.30000</td>\n",
       "      <td>13.825000</td>\n",
       "      <td>17.38000</td>\n",
       "    </tr>\n",
       "    <tr>\n",
       "      <th>Magnesium</th>\n",
       "      <td>214.0</td>\n",
       "      <td>2.684533</td>\n",
       "      <td>1.442408</td>\n",
       "      <td>0.00000</td>\n",
       "      <td>2.115000</td>\n",
       "      <td>3.48000</td>\n",
       "      <td>3.600000</td>\n",
       "      <td>4.49000</td>\n",
       "    </tr>\n",
       "    <tr>\n",
       "      <th>Aluminum</th>\n",
       "      <td>214.0</td>\n",
       "      <td>1.444907</td>\n",
       "      <td>0.499270</td>\n",
       "      <td>0.29000</td>\n",
       "      <td>1.190000</td>\n",
       "      <td>1.36000</td>\n",
       "      <td>1.630000</td>\n",
       "      <td>3.50000</td>\n",
       "    </tr>\n",
       "    <tr>\n",
       "      <th>Silicon</th>\n",
       "      <td>214.0</td>\n",
       "      <td>72.650935</td>\n",
       "      <td>0.774546</td>\n",
       "      <td>69.81000</td>\n",
       "      <td>72.280000</td>\n",
       "      <td>72.79000</td>\n",
       "      <td>73.087500</td>\n",
       "      <td>75.41000</td>\n",
       "    </tr>\n",
       "    <tr>\n",
       "      <th>Potassium</th>\n",
       "      <td>214.0</td>\n",
       "      <td>0.497056</td>\n",
       "      <td>0.652192</td>\n",
       "      <td>0.00000</td>\n",
       "      <td>0.122500</td>\n",
       "      <td>0.55500</td>\n",
       "      <td>0.610000</td>\n",
       "      <td>6.21000</td>\n",
       "    </tr>\n",
       "    <tr>\n",
       "      <th>Calcium</th>\n",
       "      <td>214.0</td>\n",
       "      <td>8.956963</td>\n",
       "      <td>1.423153</td>\n",
       "      <td>5.43000</td>\n",
       "      <td>8.240000</td>\n",
       "      <td>8.60000</td>\n",
       "      <td>9.172500</td>\n",
       "      <td>16.19000</td>\n",
       "    </tr>\n",
       "    <tr>\n",
       "      <th>Barium</th>\n",
       "      <td>214.0</td>\n",
       "      <td>0.175047</td>\n",
       "      <td>0.497219</td>\n",
       "      <td>0.00000</td>\n",
       "      <td>0.000000</td>\n",
       "      <td>0.00000</td>\n",
       "      <td>0.000000</td>\n",
       "      <td>3.15000</td>\n",
       "    </tr>\n",
       "    <tr>\n",
       "      <th>Iron</th>\n",
       "      <td>214.0</td>\n",
       "      <td>0.057009</td>\n",
       "      <td>0.097439</td>\n",
       "      <td>0.00000</td>\n",
       "      <td>0.000000</td>\n",
       "      <td>0.00000</td>\n",
       "      <td>0.100000</td>\n",
       "      <td>0.51000</td>\n",
       "    </tr>\n",
       "    <tr>\n",
       "      <th>Type_of_glass</th>\n",
       "      <td>214.0</td>\n",
       "      <td>2.780374</td>\n",
       "      <td>2.103739</td>\n",
       "      <td>1.00000</td>\n",
       "      <td>1.000000</td>\n",
       "      <td>2.00000</td>\n",
       "      <td>3.000000</td>\n",
       "      <td>7.00000</td>\n",
       "    </tr>\n",
       "  </tbody>\n",
       "</table>\n",
       "</div>"
      ],
      "text/plain": [
       "                  count        mean        std       min        25%  \\\n",
       "Id                214.0  107.500000  61.920648   1.00000  54.250000   \n",
       "refractive_index  214.0    1.518365   0.003037   1.51115   1.516523   \n",
       "Sodium            214.0   13.407850   0.816604  10.73000  12.907500   \n",
       "Magnesium         214.0    2.684533   1.442408   0.00000   2.115000   \n",
       "Aluminum          214.0    1.444907   0.499270   0.29000   1.190000   \n",
       "Silicon           214.0   72.650935   0.774546  69.81000  72.280000   \n",
       "Potassium         214.0    0.497056   0.652192   0.00000   0.122500   \n",
       "Calcium           214.0    8.956963   1.423153   5.43000   8.240000   \n",
       "Barium            214.0    0.175047   0.497219   0.00000   0.000000   \n",
       "Iron              214.0    0.057009   0.097439   0.00000   0.000000   \n",
       "Type_of_glass     214.0    2.780374   2.103739   1.00000   1.000000   \n",
       "\n",
       "                        50%         75%        max  \n",
       "Id                107.50000  160.750000  214.00000  \n",
       "refractive_index    1.51768    1.519157    1.53393  \n",
       "Sodium             13.30000   13.825000   17.38000  \n",
       "Magnesium           3.48000    3.600000    4.49000  \n",
       "Aluminum            1.36000    1.630000    3.50000  \n",
       "Silicon            72.79000   73.087500   75.41000  \n",
       "Potassium           0.55500    0.610000    6.21000  \n",
       "Calcium             8.60000    9.172500   16.19000  \n",
       "Barium              0.00000    0.000000    3.15000  \n",
       "Iron                0.00000    0.100000    0.51000  \n",
       "Type_of_glass       2.00000    3.000000    7.00000  "
      ]
     },
     "execution_count": 87,
     "metadata": {},
     "output_type": "execute_result"
    }
   ],
   "source": [
    "Glass_data.describe().T"
   ]
  },
  {
   "cell_type": "code",
   "execution_count": 96,
   "metadata": {},
   "outputs": [
    {
     "data": {
      "image/png": "[encoded data removed]",
      "text/plain": [
       "<matplotlib.figure.Figure at 0x265d21ba630>"
      ]
     },
     "metadata": {},
     "output_type": "display_data"
    }
   ],
   "source": [
    "#  Look for outliers \n",
    "sb.boxplot(x=Glass_data['refractive_index']);"
   ]
  },
  {
   "cell_type": "code",
   "execution_count": 106,
   "metadata": {},
   "outputs": [
    {
     "data": {
      "text/plain": [
       "47     1.52667\n",
       "50     1.52320\n",
       "56     1.51215\n",
       "103    1.52725\n",
       "104    1.52410\n",
       "105    1.52475\n",
       "106    1.53125\n",
       "107    1.53393\n",
       "110    1.52664\n",
       "111    1.52739\n",
       "112    1.52777\n",
       "131    1.52614\n",
       "170    1.52369\n",
       "184    1.51115\n",
       "185    1.51131\n",
       "187    1.52315\n",
       "189    1.52365\n",
       "Name: refractive_index, dtype: float64"
      ]
     },
     "execution_count": 106,
     "metadata": {},
     "output_type": "execute_result"
    }
   ],
   "source": [
    "# see where the outliers are located for each variable \n",
    "a = Glass_data['refractive_index']\n",
    "a_Q1 = a.quantile(0.25)\n",
    "a_Q3 = a.quantile(0.75)\n",
    "a_IQR = a_Q3 - a_Q1\n",
    "a_lowerend = a_Q1 - (1.5 * a_IQR)\n",
    "a_upperend = a_Q3 + (1.5 * a_IQR)\n",
    "a_outliers = a[(a < a_lowerend) | (a > a_upperend)]\n",
    "a_outliers"
   ]
  },
  {
   "cell_type": "code",
   "execution_count": 97,
   "metadata": {},
   "outputs": [
    {
     "data": {
      "image/png": "[encoded data removed]",
      "text/plain": [
       "<matplotlib.figure.Figure at 0x265d2514c50>"
      ]
     },
     "metadata": {},
     "output_type": "display_data"
    }
   ],
   "source": [
    "sb.boxplot(x=Glass_data['Sodium']);"
   ]
  },
  {
   "cell_type": "code",
   "execution_count": 107,
   "metadata": {},
   "outputs": [
    {
     "data": {
      "text/plain": [
       "105    11.45\n",
       "106    10.73\n",
       "110    11.23\n",
       "111    11.02\n",
       "166    11.03\n",
       "184    17.38\n",
       "189    15.79\n",
       "Name: Sodium, dtype: float64"
      ]
     },
     "execution_count": 107,
     "metadata": {},
     "output_type": "execute_result"
    }
   ],
   "source": [
    "a = Glass_data['Sodium']\n",
    "a_Q1 = a.quantile(0.25)\n",
    "a_Q3 = a.quantile(0.75)\n",
    "a_IQR = a_Q3 - a_Q1\n",
    "a_lowerend = a_Q1 - (1.5 * a_IQR)\n",
    "a_upperend = a_Q3 + (1.5 * a_IQR)\n",
    "a_outliers = a[(a < a_lowerend) | (a > a_upperend)]\n",
    "a_outliers"
   ]
  },
  {
   "cell_type": "code",
   "execution_count": 98,
   "metadata": {},
   "outputs": [
    {
     "data": {
      "image/png": "[encoded data removed]",
      "text/plain": [
       "<matplotlib.figure.Figure at 0x265d22ba860>"
      ]
     },
     "metadata": {},
     "output_type": "display_data"
    }
   ],
   "source": [
    "sb.boxplot(x=Glass_data['Magnesium']);"
   ]
  },
  {
   "cell_type": "code",
   "execution_count": 99,
   "metadata": {},
   "outputs": [
    {
     "data": {
      "image/png": "[encoded data removed]",
      "text/plain": [
       "<matplotlib.figure.Figure at 0x265d22de080>"
      ]
     },
     "metadata": {},
     "output_type": "display_data"
    }
   ],
   "source": [
    "sb.boxplot(x=Glass_data['Aluminum']);"
   ]
  },
  {
   "cell_type": "code",
   "execution_count": 109,
   "metadata": {},
   "outputs": [
    {
     "data": {
      "text/plain": [
       "21     0.29\n",
       "38     0.47\n",
       "39     0.47\n",
       "50     0.51\n",
       "163    3.50\n",
       "171    3.04\n",
       "172    3.02\n",
       "184    0.34\n",
       "191    2.38\n",
       "192    2.79\n",
       "195    2.68\n",
       "196    2.54\n",
       "197    2.34\n",
       "198    2.66\n",
       "199    2.51\n",
       "202    2.42\n",
       "208    2.74\n",
       "209    2.88\n",
       "Name: Aluminum, dtype: float64"
      ]
     },
     "execution_count": 109,
     "metadata": {},
     "output_type": "execute_result"
    }
   ],
   "source": [
    "a = Glass_data['Aluminum']\n",
    "a_Q1 = a.quantile(0.25)\n",
    "a_Q3 = a.quantile(0.75)\n",
    "a_IQR = a_Q3 - a_Q1\n",
    "a_lowerend = a_Q1 - (1.5 * a_IQR)\n",
    "a_upperend = a_Q3 + (1.5 * a_IQR)\n",
    "a_outliers = a[(a < a_lowerend) | (a > a_upperend)]\n",
    "a_outliers"
   ]
  },
  {
   "cell_type": "code",
   "execution_count": 100,
   "metadata": {},
   "outputs": [
    {
     "data": {
      "image/png": "[encoded data removed]",
      "text/plain": [
       "<matplotlib.figure.Figure at 0x265d2ff2e10>"
      ]
     },
     "metadata": {},
     "output_type": "display_data"
    }
   ],
   "source": [
    "sb.boxplot(x=Glass_data['Silicon']);\n"
   ]
  },
  {
   "cell_type": "code",
   "execution_count": 110,
   "metadata": {},
   "outputs": [
    {
     "data": {
      "text/plain": [
       "103    70.57\n",
       "106    69.81\n",
       "107    70.16\n",
       "109    74.45\n",
       "163    69.89\n",
       "171    70.48\n",
       "172    70.70\n",
       "180    74.55\n",
       "184    75.41\n",
       "188    70.26\n",
       "189    70.43\n",
       "201    75.18\n",
       "Name: Silicon, dtype: float64"
      ]
     },
     "execution_count": 110,
     "metadata": {},
     "output_type": "execute_result"
    }
   ],
   "source": [
    "a = Glass_data['Silicon']\n",
    "a_Q1 = a.quantile(0.25)\n",
    "a_Q3 = a.quantile(0.75)\n",
    "a_IQR = a_Q3 - a_Q1\n",
    "a_lowerend = a_Q1 - (1.5 * a_IQR)\n",
    "a_upperend = a_Q3 + (1.5 * a_IQR)\n",
    "a_outliers = a[(a < a_lowerend) | (a > a_upperend)]\n",
    "a_outliers"
   ]
  },
  {
   "cell_type": "code",
   "execution_count": 101,
   "metadata": {},
   "outputs": [
    {
     "data": {
      "image/png": "[encoded data removed]",
      "text/plain": [
       "<matplotlib.figure.Figure at 0x265d3174a20>"
      ]
     },
     "metadata": {},
     "output_type": "display_data"
    }
   ],
   "source": [
    "sb.boxplot(x=Glass_data['Potassium']);"
   ]
  },
  {
   "cell_type": "code",
   "execution_count": 111,
   "metadata": {},
   "outputs": [
    {
     "data": {
      "text/plain": [
       "163    1.68\n",
       "171    6.21\n",
       "172    6.21\n",
       "185    1.76\n",
       "186    1.46\n",
       "201    2.70\n",
       "207    1.41\n",
       "Name: Potassium, dtype: float64"
      ]
     },
     "execution_count": 111,
     "metadata": {},
     "output_type": "execute_result"
    }
   ],
   "source": [
    "a = Glass_data['Potassium']\n",
    "a_Q1 = a.quantile(0.25)\n",
    "a_Q3 = a.quantile(0.75)\n",
    "a_IQR = a_Q3 - a_Q1\n",
    "a_lowerend = a_Q1 - (1.5 * a_IQR)\n",
    "a_upperend = a_Q3 + (1.5 * a_IQR)\n",
    "a_outliers = a[(a < a_lowerend) | (a > a_upperend)]\n",
    "a_outliers"
   ]
  },
  {
   "cell_type": "code",
   "execution_count": 102,
   "metadata": {},
   "outputs": [
    {
     "data": {
      "image/png": "[encoded data removed]",
      "text/plain": [
       "<matplotlib.figure.Figure at 0x265d3016e48>"
      ]
     },
     "metadata": {},
     "output_type": "display_data"
    }
   ],
   "source": [
    "sb.boxplot(x=Glass_data['Calcium']);\n"
   ]
  },
  {
   "cell_type": "code",
   "execution_count": 112,
   "metadata": {},
   "outputs": [
    {
     "data": {
      "text/plain": [
       "103    11.64\n",
       "104    10.79\n",
       "105    13.24\n",
       "106    13.30\n",
       "107    16.19\n",
       "108    11.52\n",
       "109    10.99\n",
       "110    14.68\n",
       "111    14.96\n",
       "112    14.40\n",
       "130    11.14\n",
       "131    13.44\n",
       "163     5.87\n",
       "165    11.41\n",
       "166    11.62\n",
       "167    11.53\n",
       "169    11.32\n",
       "170    12.24\n",
       "173    12.50\n",
       "175    11.27\n",
       "182    10.88\n",
       "183    11.22\n",
       "184     6.65\n",
       "185     5.43\n",
       "186     5.79\n",
       "207     6.47\n",
       "Name: Calcium, dtype: float64"
      ]
     },
     "execution_count": 112,
     "metadata": {},
     "output_type": "execute_result"
    }
   ],
   "source": [
    "a = Glass_data['Calcium']\n",
    "a_Q1 = a.quantile(0.25)\n",
    "a_Q3 = a.quantile(0.75)\n",
    "a_IQR = a_Q3 - a_Q1\n",
    "a_lowerend = a_Q1 - (1.5 * a_IQR)\n",
    "a_upperend = a_Q3 + (1.5 * a_IQR)\n",
    "a_outliers = a[(a < a_lowerend) | (a > a_upperend)]\n",
    "a_outliers"
   ]
  },
  {
   "cell_type": "code",
   "execution_count": 103,
   "metadata": {},
   "outputs": [
    {
     "data": {
      "image/png": "[encoded data removed]",
      "text/plain": [
       "<matplotlib.figure.Figure at 0x265d24e12b0>"
      ]
     },
     "metadata": {},
     "output_type": "display_data"
    }
   ],
   "source": [
    "sb.boxplot(x=Glass_data['Barium']);\n"
   ]
  },
  {
   "cell_type": "code",
   "execution_count": 113,
   "metadata": {},
   "outputs": [
    {
     "data": {
      "text/plain": [
       "32     0.09\n",
       "36     0.11\n",
       "61     0.69\n",
       "99     0.14\n",
       "100    0.11\n",
       "106    3.15\n",
       "128    0.27\n",
       "141    0.09\n",
       "142    0.06\n",
       "161    0.15\n",
       "163    2.20\n",
       "174    0.24\n",
       "185    1.19\n",
       "186    1.63\n",
       "189    1.68\n",
       "190    0.76\n",
       "191    0.64\n",
       "192    0.40\n",
       "193    1.59\n",
       "194    1.57\n",
       "195    0.61\n",
       "196    0.81\n",
       "197    0.66\n",
       "198    0.64\n",
       "199    0.53\n",
       "200    0.63\n",
       "202    0.56\n",
       "203    1.71\n",
       "204    0.67\n",
       "205    1.55\n",
       "206    1.38\n",
       "207    2.88\n",
       "208    0.54\n",
       "209    1.06\n",
       "210    1.59\n",
       "211    1.64\n",
       "212    1.57\n",
       "213    1.67\n",
       "Name: Barium, dtype: float64"
      ]
     },
     "execution_count": 113,
     "metadata": {},
     "output_type": "execute_result"
    }
   ],
   "source": [
    "a = Glass_data['Barium']\n",
    "a_Q1 = a.quantile(0.25)\n",
    "a_Q3 = a.quantile(0.75)\n",
    "a_IQR = a_Q3 - a_Q1\n",
    "a_lowerend = a_Q1 - (1.5 * a_IQR)\n",
    "a_upperend = a_Q3 + (1.5 * a_IQR)\n",
    "a_outliers = a[(a < a_lowerend) | (a > a_upperend)]\n",
    "a_outliers"
   ]
  },
  {
   "cell_type": "code",
   "execution_count": 104,
   "metadata": {},
   "outputs": [
    {
     "data": {
      "image/png": "[encoded data removed]",
      "text/plain": [
       "<matplotlib.figure.Figure at 0x265d22399e8>"
      ]
     },
     "metadata": {},
     "output_type": "display_data"
    }
   ],
   "source": [
    "sb.boxplot(x=Glass_data['Iron']);\n"
   ]
  },
  {
   "cell_type": "code",
   "execution_count": 114,
   "metadata": {},
   "outputs": [
    {
     "data": {
      "text/plain": [
       "5      0.26\n",
       "44     0.30\n",
       "56     0.31\n",
       "71     0.32\n",
       "105    0.34\n",
       "106    0.28\n",
       "118    0.29\n",
       "135    0.28\n",
       "145    0.35\n",
       "162    0.37\n",
       "174    0.51\n",
       "175    0.28\n",
       "Name: Iron, dtype: float64"
      ]
     },
     "execution_count": 114,
     "metadata": {},
     "output_type": "execute_result"
    }
   ],
   "source": [
    "a = Glass_data['Iron']\n",
    "a_Q1 = a.quantile(0.25)\n",
    "a_Q3 = a.quantile(0.75)\n",
    "a_IQR = a_Q3 - a_Q1\n",
    "a_lowerend = a_Q1 - (1.5 * a_IQR)\n",
    "a_upperend = a_Q3 + (1.5 * a_IQR)\n",
    "a_outliers = a[(a < a_lowerend) | (a > a_upperend)]\n",
    "a_outliers"
   ]
  },
  {
   "cell_type": "code",
   "execution_count": 441,
   "metadata": {},
   "outputs": [
    {
     "data": {
      "text/html": [
       "<div>\n",
       "<style>\n",
       "    .dataframe thead tr:only-child th {\n",
       "        text-align: right;\n",
       "    }\n",
       "\n",
       "    .dataframe thead th {\n",
       "        text-align: left;\n",
       "    }\n",
       "\n",
       "    .dataframe tbody tr th {\n",
       "        vertical-align: top;\n",
       "    }\n",
       "</style>\n",
       "<table border=\"1\" class=\"dataframe\">\n",
       "  <thead>\n",
       "    <tr style=\"text-align: right;\">\n",
       "      <th></th>\n",
       "      <th>count</th>\n",
       "      <th>mean</th>\n",
       "      <th>std</th>\n",
       "      <th>min</th>\n",
       "      <th>25%</th>\n",
       "      <th>50%</th>\n",
       "      <th>75%</th>\n",
       "      <th>max</th>\n",
       "    </tr>\n",
       "  </thead>\n",
       "  <tbody>\n",
       "    <tr>\n",
       "      <th>Id</th>\n",
       "      <td>196.0</td>\n",
       "      <td>103.183673</td>\n",
       "      <td>61.885808</td>\n",
       "      <td>1.00000</td>\n",
       "      <td>49.750000</td>\n",
       "      <td>98.500000</td>\n",
       "      <td>154.25000</td>\n",
       "      <td>214.00000</td>\n",
       "    </tr>\n",
       "    <tr>\n",
       "      <th>refractive_index</th>\n",
       "      <td>196.0</td>\n",
       "      <td>1.518143</td>\n",
       "      <td>0.002324</td>\n",
       "      <td>1.51215</td>\n",
       "      <td>1.516542</td>\n",
       "      <td>1.517635</td>\n",
       "      <td>1.51905</td>\n",
       "      <td>1.52777</td>\n",
       "    </tr>\n",
       "    <tr>\n",
       "      <th>Sodium</th>\n",
       "      <td>196.0</td>\n",
       "      <td>13.426480</td>\n",
       "      <td>0.660789</td>\n",
       "      <td>11.56000</td>\n",
       "      <td>12.930000</td>\n",
       "      <td>13.300000</td>\n",
       "      <td>13.79500</td>\n",
       "      <td>15.15000</td>\n",
       "    </tr>\n",
       "    <tr>\n",
       "      <th>Magnesium</th>\n",
       "      <td>196.0</td>\n",
       "      <td>2.839082</td>\n",
       "      <td>1.352057</td>\n",
       "      <td>0.00000</td>\n",
       "      <td>2.797500</td>\n",
       "      <td>3.500000</td>\n",
       "      <td>3.61250</td>\n",
       "      <td>4.49000</td>\n",
       "    </tr>\n",
       "    <tr>\n",
       "      <th>Aluminum</th>\n",
       "      <td>196.0</td>\n",
       "      <td>1.426633</td>\n",
       "      <td>0.441769</td>\n",
       "      <td>0.29000</td>\n",
       "      <td>1.190000</td>\n",
       "      <td>1.360000</td>\n",
       "      <td>1.61250</td>\n",
       "      <td>2.88000</td>\n",
       "    </tr>\n",
       "    <tr>\n",
       "      <th>Silicon</th>\n",
       "      <td>196.0</td>\n",
       "      <td>72.709796</td>\n",
       "      <td>0.559755</td>\n",
       "      <td>71.15000</td>\n",
       "      <td>72.355000</td>\n",
       "      <td>72.800000</td>\n",
       "      <td>73.08250</td>\n",
       "      <td>74.55000</td>\n",
       "    </tr>\n",
       "    <tr>\n",
       "      <th>Potassium</th>\n",
       "      <td>196.0</td>\n",
       "      <td>0.416837</td>\n",
       "      <td>0.257557</td>\n",
       "      <td>0.00000</td>\n",
       "      <td>0.130000</td>\n",
       "      <td>0.550000</td>\n",
       "      <td>0.60000</td>\n",
       "      <td>1.10000</td>\n",
       "    </tr>\n",
       "    <tr>\n",
       "      <th>Calcium</th>\n",
       "      <td>196.0</td>\n",
       "      <td>8.871276</td>\n",
       "      <td>1.014913</td>\n",
       "      <td>7.08000</td>\n",
       "      <td>8.270000</td>\n",
       "      <td>8.595000</td>\n",
       "      <td>9.09250</td>\n",
       "      <td>14.40000</td>\n",
       "    </tr>\n",
       "    <tr>\n",
       "      <th>Barium</th>\n",
       "      <td>196.0</td>\n",
       "      <td>0.126173</td>\n",
       "      <td>0.366158</td>\n",
       "      <td>0.00000</td>\n",
       "      <td>0.000000</td>\n",
       "      <td>0.000000</td>\n",
       "      <td>0.00000</td>\n",
       "      <td>1.71000</td>\n",
       "    </tr>\n",
       "    <tr>\n",
       "      <th>Iron</th>\n",
       "      <td>196.0</td>\n",
       "      <td>0.057857</td>\n",
       "      <td>0.096346</td>\n",
       "      <td>0.00000</td>\n",
       "      <td>0.000000</td>\n",
       "      <td>0.000000</td>\n",
       "      <td>0.10000</td>\n",
       "      <td>0.51000</td>\n",
       "    </tr>\n",
       "    <tr>\n",
       "      <th>Type_of_glass</th>\n",
       "      <td>196.0</td>\n",
       "      <td>2.617347</td>\n",
       "      <td>2.020791</td>\n",
       "      <td>1.00000</td>\n",
       "      <td>1.000000</td>\n",
       "      <td>2.000000</td>\n",
       "      <td>3.00000</td>\n",
       "      <td>7.00000</td>\n",
       "    </tr>\n",
       "  </tbody>\n",
       "</table>\n",
       "</div>"
      ],
      "text/plain": [
       "                  count        mean        std       min        25%  \\\n",
       "Id                196.0  103.183673  61.885808   1.00000  49.750000   \n",
       "refractive_index  196.0    1.518143   0.002324   1.51215   1.516542   \n",
       "Sodium            196.0   13.426480   0.660789  11.56000  12.930000   \n",
       "Magnesium         196.0    2.839082   1.352057   0.00000   2.797500   \n",
       "Aluminum          196.0    1.426633   0.441769   0.29000   1.190000   \n",
       "Silicon           196.0   72.709796   0.559755  71.15000  72.355000   \n",
       "Potassium         196.0    0.416837   0.257557   0.00000   0.130000   \n",
       "Calcium           196.0    8.871276   1.014913   7.08000   8.270000   \n",
       "Barium            196.0    0.126173   0.366158   0.00000   0.000000   \n",
       "Iron              196.0    0.057857   0.096346   0.00000   0.000000   \n",
       "Type_of_glass     196.0    2.617347   2.020791   1.00000   1.000000   \n",
       "\n",
       "                        50%        75%        max  \n",
       "Id                98.500000  154.25000  214.00000  \n",
       "refractive_index   1.517635    1.51905    1.52777  \n",
       "Sodium            13.300000   13.79500   15.15000  \n",
       "Magnesium          3.500000    3.61250    4.49000  \n",
       "Aluminum           1.360000    1.61250    2.88000  \n",
       "Silicon           72.800000   73.08250   74.55000  \n",
       "Potassium          0.550000    0.60000    1.10000  \n",
       "Calcium            8.595000    9.09250   14.40000  \n",
       "Barium             0.000000    0.00000    1.71000  \n",
       "Iron               0.000000    0.10000    0.51000  \n",
       "Type_of_glass      2.000000    3.00000    7.00000  "
      ]
     },
     "execution_count": 441,
     "metadata": {},
     "output_type": "execute_result"
    }
   ],
   "source": [
    "# removing the ourliers \n",
    "Glass_data2 = Glass_data.drop([103,105,106,107,109,110,111,163,166,171,172,184,185,186,188,189,201,207])\n",
    "Glass_data2.describe().T\n",
    "\n"
   ]
  },
  {
   "cell_type": "code",
   "execution_count": 442,
   "metadata": {},
   "outputs": [],
   "source": [
    "# choose the variables we want and the ones we are trying to predict\n",
    "x= Glass_data2[['Sodium','Silicon','Potassium','Iron','refractive_index']].values\n",
    "y=Glass_data2[['Type_of_glass']]\n"
   ]
  },
  {
   "cell_type": "code",
   "execution_count": 457,
   "metadata": {},
   "outputs": [
    {
     "data": {
      "text/html": [
       "<div>\n",
       "<style>\n",
       "    .dataframe thead tr:only-child th {\n",
       "        text-align: right;\n",
       "    }\n",
       "\n",
       "    .dataframe thead th {\n",
       "        text-align: left;\n",
       "    }\n",
       "\n",
       "    .dataframe tbody tr th {\n",
       "        vertical-align: top;\n",
       "    }\n",
       "</style>\n",
       "<table border=\"1\" class=\"dataframe\">\n",
       "  <thead>\n",
       "    <tr style=\"text-align: right;\">\n",
       "      <th></th>\n",
       "      <th>Sodium</th>\n",
       "      <th>Silicon</th>\n",
       "      <th>Potassium</th>\n",
       "      <th>Iron</th>\n",
       "      <th>refractive_index</th>\n",
       "    </tr>\n",
       "  </thead>\n",
       "  <tbody>\n",
       "    <tr>\n",
       "      <th>0</th>\n",
       "      <td>0.349954</td>\n",
       "      <td>-0.251223</td>\n",
       "      <td>-0.150614</td>\n",
       "      <td>-0.013962</td>\n",
       "      <td>0.001097</td>\n",
       "    </tr>\n",
       "    <tr>\n",
       "      <th>1</th>\n",
       "      <td>0.191269</td>\n",
       "      <td>0.194791</td>\n",
       "      <td>-0.054486</td>\n",
       "      <td>-0.027871</td>\n",
       "      <td>-0.000801</td>\n",
       "    </tr>\n",
       "    <tr>\n",
       "      <th>2</th>\n",
       "      <td>0.000000</td>\n",
       "      <td>0.000000</td>\n",
       "      <td>-0.000000</td>\n",
       "      <td>0.000000</td>\n",
       "      <td>-0.000000</td>\n",
       "    </tr>\n",
       "    <tr>\n",
       "      <th>3</th>\n",
       "      <td>0.000000</td>\n",
       "      <td>-0.000000</td>\n",
       "      <td>0.000000</td>\n",
       "      <td>0.000000</td>\n",
       "      <td>-0.000000</td>\n",
       "    </tr>\n",
       "    <tr>\n",
       "      <th>4</th>\n",
       "      <td>0.000000</td>\n",
       "      <td>0.000000</td>\n",
       "      <td>0.000000</td>\n",
       "      <td>0.000000</td>\n",
       "      <td>0.000000</td>\n",
       "    </tr>\n",
       "  </tbody>\n",
       "</table>\n",
       "</div>"
      ],
      "text/plain": [
       "     Sodium   Silicon  Potassium      Iron  refractive_index\n",
       "0  0.349954 -0.251223  -0.150614 -0.013962          0.001097\n",
       "1  0.191269  0.194791  -0.054486 -0.027871         -0.000801\n",
       "2  0.000000  0.000000  -0.000000  0.000000         -0.000000\n",
       "3  0.000000 -0.000000   0.000000  0.000000         -0.000000\n",
       "4  0.000000  0.000000   0.000000  0.000000          0.000000"
      ]
     },
     "execution_count": 457,
     "metadata": {},
     "output_type": "execute_result"
    }
   ],
   "source": [
    "# use factor analysis to see what factors affect the variables so that it can be dropped if not needed\n",
    "factor=FactorAnalysis().fit(x)\n",
    "column=['Sodium','Silicon','Potassium','Iron','refractive_index']\n",
    "DF=pd.DataFrame(factor.components_,columns=column)\n",
    "DF"
   ]
  },
  {
   "cell_type": "code",
   "execution_count": 443,
   "metadata": {},
   "outputs": [
    {
     "name": "stdout",
     "output_type": "stream",
     "text": [
      "DBSCAN(algorithm='auto', eps=0.8, leaf_size=30, metric='euclidean',\n",
      "    metric_params=None, min_samples=19, n_jobs=1, p=None)\n"
     ]
    }
   ],
   "source": [
    "# use DBSCAN to look for the effect of outliers \n",
    "model = DBSCAN(eps=0.8,  min_samples=19).fit(x)\n",
    "print(model)   "
   ]
  },
  {
   "cell_type": "code",
   "execution_count": 444,
   "metadata": {},
   "outputs": [
    {
     "name": "stdout",
     "output_type": "stream",
     "text": [
      "Counter({0: 195, -1: 1})\n",
      "        0      1    2    3        4\n",
      "169  14.4  74.55  0.0  0.0  1.51299\n"
     ]
    }
   ],
   "source": [
    "# define the ourliers values (-1 values)\n",
    "outliers_df = pd.DataFrame(x)\n",
    "\n",
    "print(Counter(model.labels_))\n",
    "\n",
    "print(outliers_df[model.labels_ ==-1])"
   ]
  },
  {
   "cell_type": "code",
   "execution_count": 439,
   "metadata": {},
   "outputs": [
    {
     "data": {
      "text/plain": [
       "Text(0.5,1,'DBSCAN for Outlier Detection')"
      ]
     },
     "execution_count": 439,
     "metadata": {},
     "output_type": "execute_result"
    },
    {
     "data": {
      "image/png": "[encoded data removed]",
      "text/plain": [
       "<matplotlib.figure.Figure at 0x265d6cf3f60>"
      ]
     },
     "metadata": {},
     "output_type": "display_data"
    }
   ],
   "source": [
    "# plot the outliers for sodium and refractive index \n",
    "fig = plt.figure()\n",
    "ax = fig.add_axes([.1, .1, 1, 1])\n",
    "\n",
    "colors = model.labels_\n",
    "\n",
    "ax.scatter(x[:,0], x[:,-1], c=colors, s=120)\n",
    "ax.set_xlabel('Sodium')\n",
    "ax.set_ylabel('refractive index')\n",
    "plt.title('DBSCAN for Outlier Detection')"
   ]
  },
  {
   "cell_type": "code",
   "execution_count": 426,
   "metadata": {},
   "outputs": [
    {
     "data": {
      "image/png": "[encoded data removed]",
      "text/plain": [
       "<matplotlib.figure.Figure at 0x265d3a12be0>"
      ]
     },
     "metadata": {},
     "output_type": "display_data"
    }
   ],
   "source": [
    "# create dendrogram for our variables \n",
    "z=linkage(x,'ward')\n",
    "dendrogram(z,truncate_mode='lastp',p=12,leaf_font_size=15,show_contracted=True)\n",
    "plt.title('Truncated Hierarchial Clustering Diagram')\n",
    "plt.xlabel('Cluster Size')\n",
    "plt.ylabel('Distance')\n",
    "\n",
    "plt.axhline(y=500)\n",
    "plt.axhline(y=150)\n",
    "plt.show()"
   ]
  },
  {
   "cell_type": "code",
   "execution_count": 430,
   "metadata": {},
   "outputs": [
    {
     "data": {
      "text/plain": [
       "0.066326530612244902"
      ]
     },
     "execution_count": 430,
     "metadata": {},
     "output_type": "execute_result"
    }
   ],
   "source": [
    "# cluster the variables using diffrent linkages \n",
    "k=3\n",
    "\n",
    "Hclustering = AgglomerativeClustering(n_clusters=k, affinity='euclidean', linkage='ward')\n",
    "Hclustering.fit(x)\n",
    "\n",
    "sm.accuracy_score(y, Hclustering.labels_)"
   ]
  },
  {
   "cell_type": "code",
   "execution_count": 431,
   "metadata": {},
   "outputs": [
    {
     "data": {
      "text/plain": [
       "0.015306122448979591"
      ]
     },
     "execution_count": 431,
     "metadata": {},
     "output_type": "execute_result"
    }
   ],
   "source": [
    "Hclustering = AgglomerativeClustering(n_clusters=k, affinity='euclidean', linkage='average')\n",
    "Hclustering.fit(x)\n",
    "\n",
    "sm.accuracy_score(y, Hclustering.labels_)"
   ]
  },
  {
   "cell_type": "code",
   "execution_count": 432,
   "metadata": {},
   "outputs": [
    {
     "data": {
      "text/plain": [
       "0.39795918367346939"
      ]
     },
     "execution_count": 432,
     "metadata": {},
     "output_type": "execute_result"
    }
   ],
   "source": [
    "Hclustering = AgglomerativeClustering(n_clusters=k, affinity='manhattan', linkage='average')\n",
    "Hclustering.fit(x)\n",
    "\n",
    "sm.accuracy_score(y, Hclustering.labels_)\n"
   ]
  },
  {
   "cell_type": "code",
   "execution_count": 445,
   "metadata": {
    "collapsed": true
   },
   "outputs": [],
   "source": [
    "# 3 clusters provide the best accuracy \n"
   ]
  }
 ],
 "metadata": {
  "kernelspec": {
   "display_name": "Python 3",
   "language": "python",
   "name": "python3"
  },
  "language_info": {
   "codemirror_mode": {
    "name": "ipython",
    "version": 3
   },
   "file_extension": ".py",
   "mimetype": "text/x-python",
   "name": "python",
   "nbconvert_exporter": "python",
   "pygments_lexer": "ipython3",
   "version": "3.6.3"
  }
 },
 "nbformat": 4,
 "nbformat_minor": 2
}
